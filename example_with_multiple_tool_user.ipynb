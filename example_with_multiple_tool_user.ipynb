{
 "cells": [
  {
   "cell_type": "code",
   "execution_count": 1,
   "id": "0a70951d",
   "metadata": {
    "height": 98
   },
   "outputs": [],
   "source": [
    "import json\n",
    "from typing import Dict, Any\n",
    "\n",
    "from anthropic import Anthropic\n",
    "from anthropic.types import ToolParam"
   ]
  },
  {
   "cell_type": "code",
   "execution_count": 7,
   "id": "033744b2",
   "metadata": {
    "height": 115
   },
   "outputs": [],
   "source": [
    "# Load environment variables\n",
    "from helper import load_env\n",
    "load_env()\n",
    "\n",
    "MODEL_NAME=\"claude-3-5-sonnet-20241022\"\n",
    "client = Anthropic()"
   ]
  },
  {
   "cell_type": "code",
   "execution_count": 3,
   "id": "562ca28a",
   "metadata": {
    "height": 727
   },
   "outputs": [],
   "source": [
    "# Tool 1: Calculator\n",
    "def calculator(operation: str, a: float, b: float) -> Dict[str, Any]:\n",
    "    \"\"\"Simple calculator function\"\"\"\n",
    "    operations = {\n",
    "        \"add\": a + b,\n",
    "        \"subtract\": a - b,\n",
    "        \"multiply\": a * b,\n",
    "        \"divide\": a / b if b != 0 else \"Error: Division by zero\"\n",
    "    }\n",
    "    return {\n",
    "        \"operation\": operation,\n",
    "        \"numbers\": [a, b],\n",
    "        \"result\": operations.get(operation, \"Unknown operation\")\n",
    "    }\n",
    "\n",
    "# Tool 2: Weather\n",
    "def get_weather(city: str) -> Dict[str, Any]:\n",
    "    \"\"\"Get weather for a city (mock data)\"\"\"\n",
    "    weather_data = {\n",
    "        \"paris\": {\"temp\": \"17°C\", \"condition\": \"Cloudy\"},\n",
    "        \"london\": {\"temp\": \"15°C\", \"condition\": \"Rainy\"},\n",
    "        \"tokyo\": {\"temp\": \"25°C\", \"condition\": \"Sunny\"},\n",
    "        \"new york\": {\"temp\": \"20°C\", \"condition\": \"Partly cloudy\"}\n",
    "    }\n",
    "    \n",
    "    city_key = city.lower()\n",
    "    if city_key in weather_data:\n",
    "        return {\"city\": city, **weather_data[city_key]}\n",
    "    return {\"city\": city, \"error\": \"Weather data not available\"}\n",
    "\n",
    "# Tool 3: User lookup\n",
    "def get_user_info(user_id: int) -> Dict[str, Any]:\n",
    "    \"\"\"Get user information by ID\"\"\"\n",
    "    users = {\n",
    "        1: {\"name\": \"Alice\", \"email\": \"alice@email.com\", \"city\": \"Paris\"},\n",
    "        2: {\"name\": \"Bob\", \"email\": \"bob@email.com\", \"city\": \"London\"},\n",
    "        3: {\"name\": \"Charlie\", \"email\": \"charlie@email.com\", \"city\": \"Tokyo\"}\n",
    "    }\n",
    "    \n",
    "    if user_id in users:\n",
    "        return {\"user_id\": user_id, **users[user_id]}\n",
    "    return {\"user_id\": user_id, \"error\": \"User not found\"}"
   ]
  },
  {
   "cell_type": "code",
   "execution_count": 4,
   "id": "761b4549",
   "metadata": {
    "height": 659
   },
   "outputs": [],
   "source": [
    "# Define tool schemas\n",
    "calculator_tool: ToolParam  = {\n",
    "    \"name\": \"calculator\",\n",
    "    \"description\": \"Perform basic math calculations\",\n",
    "    \"input_schema\": {\n",
    "        \"type\": \"object\",\n",
    "        \"properties\": {\n",
    "            \"operation\": {\"type\": \"string\", \"enum\": [\"add\", \"subtract\", \"multiply\", \"divide\"]},\n",
    "            \"a\": {\"type\": \"number\"},\n",
    "            \"b\": {\"type\": \"number\"}\n",
    "        },\n",
    "        \"required\": [\"operation\", \"a\", \"b\"]\n",
    "    }\n",
    "}\n",
    "\n",
    "weather_tool: ToolParam = {\n",
    "    \"name\": \"get_weather\",\n",
    "    \"description\": \"Get weather information for a city\",\n",
    "    \"input_schema\": {\n",
    "        \"type\": \"object\",\n",
    "        \"properties\": {\n",
    "            \"city\": {\"type\": \"string\"}\n",
    "        },\n",
    "        \"required\": [\"city\"]\n",
    "    }\n",
    "}\n",
    "\n",
    "user_tool: ToolParam = {\n",
    "    \"name\": \"get_user_info\",\n",
    "    \"description\": \"Get user information by ID\",\n",
    "    \"input_schema\": {\n",
    "        \"type\": \"object\",\n",
    "        \"properties\": {\n",
    "            \"user_id\": {\"type\": \"integer\"}\n",
    "        },\n",
    "        \"required\": [\"user_id\"]\n",
    "    }\n",
    "}"
   ]
  },
  {
   "cell_type": "code",
   "execution_count": 5,
   "id": "6ce79e21",
   "metadata": {
    "height": 132
   },
   "outputs": [],
   "source": [
    "# Tool function registry\n",
    "CUSTOM_TOOLS = {\n",
    "    \"calculator\": calculator,\n",
    "    \"get_weather\": get_weather,\n",
    "    \"get_user_info\": get_user_info\n",
    "}\n"
   ]
  },
  {
   "cell_type": "code",
   "execution_count": 8,
   "id": "baeda8c0",
   "metadata": {
    "height": 1339
   },
   "outputs": [],
   "source": [
    "def simple_conversation_with_tools(user_message: str):\n",
    "    \"\"\"Simple conversation loop with multiple tools\"\"\"\n",
    "    \n",
    "    print(f\"User: {user_message}\")\n",
    "    \n",
    "    # Available tools with proper typing\n",
    "    all_tools: list[ToolParam] = [calculator_tool, weather_tool, user_tool]\n",
    "    \n",
    "    # Start conversation\n",
    "    messages = [{\"role\": \"user\", \"content\": user_message}]\n",
    "    \n",
    "    \n",
    "    while True:       \n",
    "        # Get Claude's response\n",
    "        response = client.messages.create(\n",
    "            model=MODEL_NAME,\n",
    "            max_tokens=1500,\n",
    "            messages=messages,\n",
    "            tools=all_tools\n",
    "        )\n",
    "        \n",
    "        # Add Claude's response to messages\n",
    "        messages.append({\"role\": \"assistant\", \"content\": response.content})\n",
    "        \n",
    "        # Check what Claude wants to do\n",
    "        text_parts = []\n",
    "        tool_calls = []\n",
    "        \n",
    "        for content in response.content:\n",
    "            if content.type == \"text\":\n",
    "                text_parts.append(content.text)\n",
    "            elif content.type == \"tool_use\":\n",
    "                tool_calls.append(content)\n",
    "        \n",
    "        # Show Claude's text response\n",
    "        if text_parts:\n",
    "            claude_text = \" \".join(text_parts)\n",
    "            print(f\"Claude: {claude_text}\")\n",
    "        \n",
    "        # If no tools needed, we're done\n",
    "        if not tool_calls:\n",
    "            print(\"\\n✅ Conversation complete!\")\n",
    "            return \" \".join(text_parts)\n",
    "        \n",
    "        # Execute tools\n",
    "        print(f\"\\n🔧 Claude wants to use {len(tool_calls)} tool(s):\")\n",
    "        \n",
    "        tool_results = []\n",
    "        for tool_call in tool_calls:\n",
    "            tool_name = tool_call.name\n",
    "            tool_input = tool_call.input\n",
    "            tool_id = tool_call.id\n",
    "            \n",
    "            print(f\"  - {tool_name}: {tool_input}\")\n",
    "            \n",
    "            try:\n",
    "                # Call the tool function\n",
    "                result = CUSTOM_TOOLS[tool_name](**tool_input)\n",
    "                \n",
    "                tool_results.append({\n",
    "                    \"type\": \"tool_result\",\n",
    "                    \"tool_use_id\": tool_id,\n",
    "                    \"content\": json.dumps(result)\n",
    "                })\n",
    "                \n",
    "                print(f\"    ✅ Result: {result}\")\n",
    "                \n",
    "            except Exception as e:\n",
    "                print(f\"    ❌ Error: {e}\")\n",
    "                tool_results.append({\n",
    "                    \"type\": \"tool_result\",\n",
    "                    \"tool_use_id\": tool_id,\n",
    "                    \"content\": json.dumps({\"error\": str(e)})\n",
    "                })\n",
    "        \n",
    "        # Add tool results to conversation\n",
    "        messages.append({\"role\": \"user\", \"content\": tool_results})\n"
   ]
  },
  {
   "cell_type": "code",
   "execution_count": 9,
   "id": "8ae1db1f",
   "metadata": {
    "height": 149
   },
   "outputs": [],
   "source": [
    "# Example 1: Simple calculation\n",
    "def example_1():\n",
    "    print(\"=\"*50)\n",
    "    print(\"EXAMPLE 1: Simple Calculation\")\n",
    "    print(\"=\"*50)\n",
    "    \n",
    "    result = simple_conversation_with_tools(\"What's 25 + 17?\")\n",
    "    print(f\"\\nFinal answer: {result}\")"
   ]
  },
  {
   "cell_type": "code",
   "execution_count": 10,
   "id": "2f4e96fb",
   "metadata": {
    "height": 30
   },
   "outputs": [
    {
     "name": "stdout",
     "output_type": "stream",
     "text": [
      "==================================================\n",
      "EXAMPLE 1: Simple Calculation\n",
      "==================================================\n",
      "User: What's 25 + 17?\n",
      "Claude: I'll help you calculate 25 + 17 using the calculator function.\n",
      "\n",
      "🔧 Claude wants to use 1 tool(s):\n",
      "  - calculator: {'operation': 'add', 'a': 25, 'b': 17}\n",
      "    ✅ Result: {'operation': 'add', 'numbers': [25, 17], 'result': 42}\n",
      "Claude: 25 + 17 = 42\n",
      "\n",
      "✅ Conversation complete!\n",
      "\n",
      "Final answer: 25 + 17 = 42\n"
     ]
    }
   ],
   "source": [
    "example_1()"
   ]
  },
  {
   "cell_type": "code",
   "execution_count": 11,
   "id": "ca8016db",
   "metadata": {
    "height": 149
   },
   "outputs": [],
   "source": [
    "# Example 2: Weather lookup\n",
    "def example_2():\n",
    "    print(\"\\n\" + \"=\"*50)\n",
    "    print(\"EXAMPLE 2: Weather Lookup\")\n",
    "    print(\"=\"*50)\n",
    "    \n",
    "    result = simple_conversation_with_tools(\"What's the weather like in Paris?\")\n",
    "    print(f\"\\nFinal answer: {result}\")"
   ]
  },
  {
   "cell_type": "code",
   "execution_count": 12,
   "id": "98a6f35d",
   "metadata": {
    "height": 30
   },
   "outputs": [
    {
     "name": "stdout",
     "output_type": "stream",
     "text": [
      "\n",
      "==================================================\n",
      "EXAMPLE 2: Weather Lookup\n",
      "==================================================\n",
      "User: What's the weather like in Paris?\n",
      "Claude: I'll help you check the weather in Paris using the get_weather function.\n",
      "\n",
      "🔧 Claude wants to use 1 tool(s):\n",
      "  - get_weather: {'city': 'Paris'}\n",
      "    ✅ Result: {'city': 'Paris', 'temp': '17°C', 'condition': 'Cloudy'}\n",
      "Claude: According to the weather information, it is currently 17°C (Celsius) and cloudy in Paris.\n",
      "\n",
      "✅ Conversation complete!\n",
      "\n",
      "Final answer: According to the weather information, it is currently 17°C (Celsius) and cloudy in Paris.\n"
     ]
    }
   ],
   "source": [
    "example_2()"
   ]
  },
  {
   "cell_type": "code",
   "execution_count": 13,
   "id": "426e6014",
   "metadata": {
    "height": 183
   },
   "outputs": [],
   "source": [
    "# Example 3: Multiple tools in sequence\n",
    "def example_3():\n",
    "    print(\"\\n\" + \"=\"*50)\n",
    "    print(\"EXAMPLE 3: Multiple Tools\")\n",
    "    print(\"=\"*50)\n",
    "    \n",
    "    result = simple_conversation_with_tools(\n",
    "        \"Get user 1's information, then tell me the weather in their city, then calculate their user_id * 10\"\n",
    "    )\n",
    "    print(f\"\\nFinal answer: {result}\")"
   ]
  },
  {
   "cell_type": "code",
   "execution_count": 14,
   "id": "30c93cdf",
   "metadata": {
    "height": 30
   },
   "outputs": [
    {
     "name": "stdout",
     "output_type": "stream",
     "text": [
      "\n",
      "==================================================\n",
      "EXAMPLE 3: Multiple Tools\n",
      "==================================================\n",
      "User: Get user 1's information, then tell me the weather in their city, then calculate their user_id * 10\n",
      "Claude: I'll help you with that sequence of operations. Let's break it down into steps:\n",
      "\n",
      "1. First, let's get user 1's information:\n",
      "\n",
      "🔧 Claude wants to use 1 tool(s):\n",
      "  - get_user_info: {'user_id': 1}\n",
      "    ✅ Result: {'user_id': 1, 'name': 'Alice', 'email': 'alice@email.com', 'city': 'Paris'}\n",
      "Claude: 2. Now that we know Alice lives in Paris, let's get the weather there:\n",
      "\n",
      "🔧 Claude wants to use 1 tool(s):\n",
      "  - get_weather: {'city': 'Paris'}\n",
      "    ✅ Result: {'city': 'Paris', 'temp': '17°C', 'condition': 'Cloudy'}\n",
      "Claude: 3. Finally, let's multiply their user_id (1) by 10:\n",
      "\n",
      "🔧 Claude wants to use 1 tool(s):\n",
      "  - calculator: {'operation': 'multiply', 'a': 1, 'b': 10}\n",
      "    ✅ Result: {'operation': 'multiply', 'numbers': [1, 10], 'result': 10}\n",
      "Claude: Here's a summary of what we found:\n",
      "- User 1 is Alice, who lives in Paris\n",
      "- The weather in Paris is currently 17°C and Cloudy\n",
      "- 1 * 10 = 10\n",
      "\n",
      "✅ Conversation complete!\n",
      "\n",
      "Final answer: Here's a summary of what we found:\n",
      "- User 1 is Alice, who lives in Paris\n",
      "- The weather in Paris is currently 17°C and Cloudy\n",
      "- 1 * 10 = 10\n"
     ]
    }
   ],
   "source": [
    "example_3()"
   ]
  },
  {
   "cell_type": "code",
   "execution_count": 15,
   "id": "c1705de9",
   "metadata": {
    "height": 166
   },
   "outputs": [],
   "source": [
    "def example_4():\n",
    "    print(\"\\n\" + \"=\"*50)\n",
    "    print(\"EXAMPLE 4: Complex Request\")\n",
    "    print(\"=\"*50)\n",
    "    \n",
    "    result = simple_conversation_with_tools(\n",
    "        \"I need: weather for Tokyo and London, calculate 100 * 1.5, and get info for user 2\"\n",
    "    )\n",
    "    print(f\"\\nFinal answer: {result}\")"
   ]
  },
  {
   "cell_type": "code",
   "execution_count": 16,
   "id": "a4a35e14",
   "metadata": {
    "height": 30
   },
   "outputs": [
    {
     "name": "stdout",
     "output_type": "stream",
     "text": [
      "\n",
      "==================================================\n",
      "EXAMPLE 4: Complex Request\n",
      "==================================================\n",
      "User: I need: weather for Tokyo and London, calculate 100 * 1.5, and get info for user 2\n",
      "Claude: I'll help you with those requests using the available tools.\n",
      "\n",
      "1. Weather for Tokyo:\n",
      "\n",
      "🔧 Claude wants to use 1 tool(s):\n",
      "  - get_weather: {'city': 'Tokyo'}\n",
      "    ✅ Result: {'city': 'Tokyo', 'temp': '25°C', 'condition': 'Sunny'}\n",
      "Claude: 2. Weather for London:\n",
      "\n",
      "🔧 Claude wants to use 1 tool(s):\n",
      "  - get_weather: {'city': 'London'}\n",
      "    ✅ Result: {'city': 'London', 'temp': '15°C', 'condition': 'Rainy'}\n",
      "Claude: 3. Calculate 100 * 1.5:\n",
      "\n",
      "🔧 Claude wants to use 1 tool(s):\n",
      "  - calculator: {'operation': 'multiply', 'a': 100, 'b': 1.5}\n",
      "    ✅ Result: {'operation': 'multiply', 'numbers': [100, 1.5], 'result': 150.0}\n",
      "Claude: 4. Get info for user 2:\n",
      "\n",
      "🔧 Claude wants to use 1 tool(s):\n",
      "  - get_user_info: {'user_id': 2}\n",
      "    ✅ Result: {'user_id': 2, 'name': 'Bob', 'email': 'bob@email.com', 'city': 'London'}\n",
      "Claude: Here's a summary of all the results:\n",
      "- Tokyo: 25°C, Sunny\n",
      "- London: 15°C, Rainy\n",
      "- 100 * 1.5 = 150.0\n",
      "- User 2 is Bob (bob@email.com) from London\n",
      "\n",
      "✅ Conversation complete!\n",
      "\n",
      "Final answer: Here's a summary of all the results:\n",
      "- Tokyo: 25°C, Sunny\n",
      "- London: 15°C, Rainy\n",
      "- 100 * 1.5 = 150.0\n",
      "- User 2 is Bob (bob@email.com) from London\n"
     ]
    }
   ],
   "source": [
    "example_4()"
   ]
  },
  {
   "cell_type": "code",
   "execution_count": null,
   "id": "8f924573",
   "metadata": {
    "height": 30
   },
   "outputs": [],
   "source": []
  }
 ],
 "metadata": {
  "kernelspec": {
   "display_name": "Python 3 (ipykernel)",
   "language": "python",
   "name": "python3"
  },
  "language_info": {
   "codemirror_mode": {
    "name": "ipython",
    "version": 3
   },
   "file_extension": ".py",
   "mimetype": "text/x-python",
   "name": "python",
   "nbconvert_exporter": "python",
   "pygments_lexer": "ipython3",
   "version": "3.11.9"
  }
 },
 "nbformat": 4,
 "nbformat_minor": 5
}
