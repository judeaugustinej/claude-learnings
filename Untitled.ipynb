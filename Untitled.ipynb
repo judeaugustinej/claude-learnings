{
 "cells": [
  {
   "cell_type": "code",
   "execution_count": 1,
   "id": "9d87113c",
   "metadata": {
    "height": 47
   },
   "outputs": [],
   "source": [
    "from anthropic import Anthropic\n",
    "from anthropic.types import ToolParam"
   ]
  },
  {
   "cell_type": "code",
   "execution_count": 2,
   "id": "9a30a232",
   "metadata": {
    "height": 132
   },
   "outputs": [],
   "source": [
    "# Load environment variables\n",
    "from helper import load_env\n",
    "load_env()\n",
    "\n",
    "MODEL_NAME=\"claude-3-5-sonnet-20241022\"\n",
    "client = Anthropic()\n"
   ]
  },
  {
   "cell_type": "code",
   "execution_count": 3,
   "id": "c08f31af",
   "metadata": {
    "height": 863
   },
   "outputs": [],
   "source": [
    "def get_weather(location):\n",
    "    if not location or location.strip() == \"\":\n",
    "        raise ValueError('Location cannot be empty')\n",
    "    \n",
    "    # Normalize location for consistent sample data\n",
    "    location = location.strip().lower()\n",
    "    \n",
    "    # Sample weather data for different locations\n",
    "    sample_weather_data = {\n",
    "        \"new york\": {\n",
    "            \"current\": {\"temp_c\": 22, \"condition\": {\"text\": \"Partly cloudy\"}, \"humidity\": 65, \"wind_mph\": 8.5}\n",
    "        },\n",
    "        \"london\": {\n",
    "            \"current\": {\"temp_c\": 15, \"condition\": {\"text\": \"Overcast\"}, \"humidity\": 78, \"wind_mph\": 12.3}\n",
    "        },\n",
    "        \"tokyo\": {\n",
    "            \"current\": {\"temp_c\": 28, \"condition\": {\"text\": \"Sunny\"}, \"humidity\": 55, \"wind_mph\": 6.2}\n",
    "        },\n",
    "        \"sydney\": {\n",
    "            \"current\": {\"temp_c\": 19, \"condition\": {\"text\": \"Light rain\"}, \"humidity\": 82, \"wind_mph\": 15.7}\n",
    "        },\n",
    "        \"paris\": {\n",
    "            \"current\": {\"temp_c\": 17, \"condition\": {\"text\": \"Cloudy\"}, \"humidity\": 71, \"wind_mph\": 9.8}\n",
    "        }\n",
    "    }\n",
    "    \n",
    "    # Check if we have specific data for this location\n",
    "    for location_data, temperature_data in sample_weather_data.items():\n",
    "        if location_data == location:\n",
    "            output = f\"{location} has temperature of {temperature_data['current']['temp_c']}\"\n",
    "            return output\n",
    "\n",
    "    return None\n",
    "\n",
    "\n",
    "# Tool schema (JSON-serializable)\n",
    "get_weather_schema: ToolParam = {\n",
    "    \"name\": \"get_weather\",\n",
    "    \"description\": \"Get current weather information for a specified location. Returns temperature and weather conditions for major cities including New York, London, Tokyo, Sydney, and Paris.\",\n",
    "    \"input_schema\": {\n",
    "        \"type\": \"object\",\n",
    "        \"properties\": {\n",
    "            \"location\": {\n",
    "                \"type\": \"string\",\n",
    "                \"description\": \"The location/city name to get weather information for. Supports major cities like New York, London, Tokyo, Sydney, Paris.\"\n",
    "            }\n",
    "        },\n",
    "        \"required\": [\"location\"]\n",
    "    }\n",
    "}"
   ]
  },
  {
   "cell_type": "code",
   "execution_count": 4,
   "id": "b767c833",
   "metadata": {
    "height": 268
   },
   "outputs": [],
   "source": [
    "# Let ask Claude for temperature in Paris.\n",
    "messages = list()\n",
    "\n",
    "messages.append({\n",
    "    \"role\": \"user\",\n",
    "    \"content\": \"What is the current weather in Paris\"\n",
    "})\n",
    "\n",
    "\n",
    "response = client.messages.create(\n",
    "    model=MODEL_NAME,\n",
    "    max_tokens=1000,\n",
    "    messages=messages,\n",
    "    tools=[get_weather_schema],\n",
    ")"
   ]
  },
  {
   "cell_type": "code",
   "execution_count": 12,
   "id": "22dbd4b5",
   "metadata": {
    "height": 489
   },
   "outputs": [
    {
     "name": "stdout",
     "output_type": "stream",
     "text": [
      "<class 'anthropic.types.message.Message'>\n",
      "Claude Full reponse: Message(id='msg_01HDb3cH9rfv2PYUjCiqDqfH', content=[TextBlock(text=\"I'll help you check the current weather in Paris using the get_weather function.\", type='text'), ToolUseBlock(id='toolu_01Whg5QRhLJ6mWqQaKwTr9vi', input={'location': 'Paris'}, name='get_weather', type='tool_use')], model='claude-3-5-sonnet-20241022', role='assistant', stop_reason='tool_use', stop_sequence=None, type='message', usage=Usage(cache_creation_input_tokens=0, cache_read_input_tokens=0, input_tokens=435, output_tokens=71, cache_creation={'ephemeral_5m_input_tokens': 0, 'ephemeral_1h_input_tokens': 0}, service_tier='standard'))\n",
      "\n",
      "\n",
      "Claude stop reason: tool_use\n",
      "\n",
      "\n",
      "<class 'anthropic.types.text_block.TextBlock'>\n",
      "Claude Response with TextBlock: TextBlock(text=\"I'll help you check the current weather in Paris using the get_weather function.\", type='text')\n",
      "\n",
      "\n",
      "<class 'anthropic.types.tool_use_block.ToolUseBlock'>\n",
      "Claude Response with ToolUseBlock: ToolUseBlock(id='toolu_01Whg5QRhLJ6mWqQaKwTr9vi', input={'location': 'Paris'}, name='get_weather', type='tool_use')\n",
      "\n",
      "\n",
      "<class 'str'>\n",
      "Claude Response with ToolUseBlock with ToolID: toolu_01Whg5QRhLJ6mWqQaKwTr9vi\n",
      "\n",
      "\n",
      "<class 'str'>\n",
      "Claude Response with ToolUseBlock with ToolName: get_weather\n",
      "\n",
      "\n",
      "<class 'dict'>\n",
      "Claude Response with ToolUseBlock with ToolInput: {'location': 'Paris'}\n",
      "\n",
      "\n"
     ]
    }
   ],
   "source": [
    "# output from LLM for tool use.\n",
    "print(type(response))\n",
    "print(f'Claude Full reponse: {response}')\n",
    "print('\\n')\n",
    "\n",
    "print(f'Claude stop reason: {response.stop_reason}')\n",
    "print('\\n')\n",
    "\n",
    "print(type(response.content[0]))\n",
    "print(f'Claude Response with TextBlock: {response.content[0]}')\n",
    "print('\\n')\n",
    "\n",
    "print(type(response.content[1]))\n",
    "print(f'Claude Response with ToolUseBlock: {response.content[1]}')\n",
    "print('\\n')\n",
    "\n",
    "\n",
    "print(type(response.content[1].id))\n",
    "print(f'Claude Response with ToolUseBlock with ToolID: {response.content[1].id}')\n",
    "print('\\n')\n",
    "\n",
    "print(type(response.content[1].name))\n",
    "print(f'Claude Response with ToolUseBlock with ToolName: {response.content[1].name}')\n",
    "print('\\n')\n",
    "\n",
    "print(type(response.content[1].input))\n",
    "print(f'Claude Response with ToolUseBlock with ToolInput: {response.content[1].input}')\n",
    "print('\\n')"
   ]
  },
  {
   "cell_type": "code",
   "execution_count": 13,
   "id": "83abbf64",
   "metadata": {
    "height": 149
   },
   "outputs": [],
   "source": [
    "# add the above message back to messages list.\n",
    "\n",
    "messages.append({\n",
    "    \"role\": \"assistant\",\n",
    "    \"content\": response.content\n",
    "})\n",
    "\n"
   ]
  },
  {
   "cell_type": "code",
   "execution_count": 14,
   "id": "3b8047cd",
   "metadata": {
    "height": 30
   },
   "outputs": [
    {
     "data": {
      "text/plain": [
       "[{'role': 'user', 'content': 'What is the current weather in Paris'},\n",
       " {'role': 'assistant',\n",
       "  'content': [TextBlock(text=\"I'll help you check the current weather in Paris using the get_weather function.\", type='text'),\n",
       "   ToolUseBlock(id='toolu_01Whg5QRhLJ6mWqQaKwTr9vi', input={'location': 'Paris'}, name='get_weather', type='tool_use')]}]"
      ]
     },
     "execution_count": 14,
     "metadata": {},
     "output_type": "execute_result"
    }
   ],
   "source": [
    "messages"
   ]
  },
  {
   "cell_type": "code",
   "execution_count": 15,
   "id": "b382a519",
   "metadata": {
    "height": 234
   },
   "outputs": [
    {
     "data": {
      "text/plain": [
       "[{'role': 'user', 'content': 'What is the current weather in Paris'},\n",
       " {'role': 'assistant',\n",
       "  'content': [TextBlock(text=\"I'll help you check the current weather in Paris using the get_weather function.\", type='text'),\n",
       "   ToolUseBlock(id='toolu_01Whg5QRhLJ6mWqQaKwTr9vi', input={'location': 'Paris'}, name='get_weather', type='tool_use')]},\n",
       " {'role': 'user',\n",
       "  'content': [{'type': 'tool_result',\n",
       "    'tool_use_id': 'toolu_01Whg5QRhLJ6mWqQaKwTr9vi',\n",
       "    'content': 'paris has temperature of 17',\n",
       "    'is_error': False}]}]"
      ]
     },
     "execution_count": 15,
     "metadata": {},
     "output_type": "execute_result"
    }
   ],
   "source": [
    "# call the Tool use with the LLM Output.\n",
    "messages.append({\n",
    "    \"role\": \"user\",\n",
    "    \"content\": [{\n",
    "        \"type\": \"tool_result\",\n",
    "        \"tool_use_id\": response.content[1].id,\n",
    "        \"content\": get_weather(**response.content[1].input),\n",
    "        \"is_error\": False\n",
    "    }]\n",
    "})\n",
    "\n",
    "messages\n"
   ]
  },
  {
   "cell_type": "code",
   "execution_count": 16,
   "id": "c96f0ecb",
   "metadata": {
    "height": 149
   },
   "outputs": [],
   "source": [
    "# Final call to LLM with tool output.\n",
    "\n",
    "response = client.messages.create(\n",
    "    model=MODEL_NAME,\n",
    "    max_tokens=1000,\n",
    "    messages=messages,\n",
    "    tools=[get_weather_schema]\n",
    ")"
   ]
  },
  {
   "cell_type": "code",
   "execution_count": 19,
   "id": "9fb0b397",
   "metadata": {
    "height": 285
   },
   "outputs": [
    {
     "name": "stdout",
     "output_type": "stream",
     "text": [
      "<class 'anthropic.types.message.Message'>\n",
      "Claude Full reponse: Message(id='msg_01LgdguFi8NpetiwRwkbWf1D', content=[TextBlock(text='According to the current weather data, the temperature in Paris is 17 degrees (Celsius).', type='text')], model='claude-3-5-sonnet-20241022', role='assistant', stop_reason='end_turn', stop_sequence=None, type='message', usage=Usage(cache_creation_input_tokens=0, cache_read_input_tokens=0, input_tokens=523, output_tokens=24, cache_creation={'ephemeral_5m_input_tokens': 0, 'ephemeral_1h_input_tokens': 0}, service_tier='standard'))\n",
      "\n",
      "\n",
      "Claude stop reason: end_turn\n",
      "\n",
      "\n",
      "<class 'anthropic.types.text_block.TextBlock'>\n",
      "Claude Response with TextBlock: TextBlock(text='According to the current weather data, the temperature in Paris is 17 degrees (Celsius).', type='text')\n",
      "\n",
      "\n",
      "Claude Final Output: According to the current weather data, the temperature in Paris is 17 degrees (Celsius).\n",
      "\n",
      "\n"
     ]
    }
   ],
   "source": [
    "# output from LLM for tool use.\n",
    "print(type(response))\n",
    "print(f'Claude Full reponse: {response}')\n",
    "print('\\n')\n",
    "\n",
    "print(f'Claude stop reason: {response.stop_reason}')\n",
    "print('\\n')\n",
    "\n",
    "print(type(response.content[0]))\n",
    "print(f'Claude Response with TextBlock: {response.content[0]}')\n",
    "print('\\n')\n",
    "\n",
    "\n",
    "print(f'Claude Final Output: {response.content[0].text}')\n",
    "print('\\n')\n"
   ]
  },
  {
   "cell_type": "code",
   "execution_count": null,
   "id": "96dd5b1a",
   "metadata": {
    "height": 30
   },
   "outputs": [],
   "source": []
  }
 ],
 "metadata": {
  "kernelspec": {
   "display_name": "Python 3 (ipykernel)",
   "language": "python",
   "name": "python3"
  },
  "language_info": {
   "codemirror_mode": {
    "name": "ipython",
    "version": 3
   },
   "file_extension": ".py",
   "mimetype": "text/x-python",
   "name": "python",
   "nbconvert_exporter": "python",
   "pygments_lexer": "ipython3",
   "version": "3.11.9"
  }
 },
 "nbformat": 4,
 "nbformat_minor": 5
}
